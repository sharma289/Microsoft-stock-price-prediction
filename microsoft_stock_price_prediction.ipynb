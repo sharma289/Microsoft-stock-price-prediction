{
  "cells": [
    {
      "cell_type": "markdown",
      "metadata": {
        "id": "vRQNekiiO3aj"
      },
      "source": [
        "# microsoft-stock-price-prediction\n",
        "\n",
        "Use the \"Run\" button to execute the code."
      ]
    },
    {
      "cell_type": "code",
      "execution_count": 30,
      "metadata": {
        "id": "tp2XOHKUO3an"
      },
      "outputs": [],
      "source": [
        "pip install numpy pandas matplotlib seaborn plotly sklearn opendatasets xgboost --quiet"
      ]
    },
    {
      "cell_type": "code",
      "execution_count": 31,
      "metadata": {
        "id": "iVqreTMGO3ao"
      },
      "outputs": [],
      "source": [
        "# Import some necessary libraries\n",
        "import numpy as np\n",
        "import pandas as pd\n",
        "import matplotlib.pyplot as plt\n",
        "import seaborn as sns\n",
        "%matplotlib inline"
      ]
    },
    {
      "cell_type": "code",
      "execution_count": 32,
      "metadata": {
        "colab": {
          "base_uri": "https://localhost:8080/",
          "height": 424
        },
        "id": "DqnHUXTFO3ap",
        "outputId": "5ea6f0d6-4a06-4757-f09d-1f1a4f829225"
      },
      "outputs": [
        {
          "output_type": "execute_result",
          "data": {
            "text/plain": [
              "           Date        Open        High         Low       Close   Adj Close  \\\n",
              "0    2020-11-27  214.850006  216.270004  214.039993  215.229996  211.459473   \n",
              "1    2020-11-30  214.100006  214.759995  210.839996  214.070007  210.319809   \n",
              "2    2020-12-01  214.509995  217.320007  213.350006  216.210007  212.422318   \n",
              "3    2020-12-02  214.880005  215.470001  212.800003  215.369995  211.597000   \n",
              "4    2020-12-03  214.610001  216.380005  213.649994  214.240005  210.486816   \n",
              "..          ...         ...         ...         ...         ...         ...   \n",
              "498  2022-11-18  243.509995  243.740005  239.029999  241.220001  241.220001   \n",
              "499  2022-11-21  241.429993  244.669998  241.190002  242.050003  242.050003   \n",
              "500  2022-11-22  243.589996  245.309998  240.710007  245.029999  245.029999   \n",
              "501  2022-11-23  245.110001  248.279999  244.270004  247.580002  247.580002   \n",
              "502  2022-11-25  247.309998  248.699997  246.729996  247.490005  247.490005   \n",
              "\n",
              "       Volume  \n",
              "0    14512200  \n",
              "1    33064800  \n",
              "2    30904500  \n",
              "3    23724500  \n",
              "4    25120900  \n",
              "..        ...  \n",
              "498  27591800  \n",
              "499  26394700  \n",
              "500  19665700  \n",
              "501  19508500  \n",
              "502   9200800  \n",
              "\n",
              "[503 rows x 7 columns]"
            ],
            "text/html": [
              "\n",
              "  <div id=\"df-2698eb31-f7fc-459c-8ea3-b0c252cea393\">\n",
              "    <div class=\"colab-df-container\">\n",
              "      <div>\n",
              "<style scoped>\n",
              "    .dataframe tbody tr th:only-of-type {\n",
              "        vertical-align: middle;\n",
              "    }\n",
              "\n",
              "    .dataframe tbody tr th {\n",
              "        vertical-align: top;\n",
              "    }\n",
              "\n",
              "    .dataframe thead th {\n",
              "        text-align: right;\n",
              "    }\n",
              "</style>\n",
              "<table border=\"1\" class=\"dataframe\">\n",
              "  <thead>\n",
              "    <tr style=\"text-align: right;\">\n",
              "      <th></th>\n",
              "      <th>Date</th>\n",
              "      <th>Open</th>\n",
              "      <th>High</th>\n",
              "      <th>Low</th>\n",
              "      <th>Close</th>\n",
              "      <th>Adj Close</th>\n",
              "      <th>Volume</th>\n",
              "    </tr>\n",
              "  </thead>\n",
              "  <tbody>\n",
              "    <tr>\n",
              "      <th>0</th>\n",
              "      <td>2020-11-27</td>\n",
              "      <td>214.850006</td>\n",
              "      <td>216.270004</td>\n",
              "      <td>214.039993</td>\n",
              "      <td>215.229996</td>\n",
              "      <td>211.459473</td>\n",
              "      <td>14512200</td>\n",
              "    </tr>\n",
              "    <tr>\n",
              "      <th>1</th>\n",
              "      <td>2020-11-30</td>\n",
              "      <td>214.100006</td>\n",
              "      <td>214.759995</td>\n",
              "      <td>210.839996</td>\n",
              "      <td>214.070007</td>\n",
              "      <td>210.319809</td>\n",
              "      <td>33064800</td>\n",
              "    </tr>\n",
              "    <tr>\n",
              "      <th>2</th>\n",
              "      <td>2020-12-01</td>\n",
              "      <td>214.509995</td>\n",
              "      <td>217.320007</td>\n",
              "      <td>213.350006</td>\n",
              "      <td>216.210007</td>\n",
              "      <td>212.422318</td>\n",
              "      <td>30904500</td>\n",
              "    </tr>\n",
              "    <tr>\n",
              "      <th>3</th>\n",
              "      <td>2020-12-02</td>\n",
              "      <td>214.880005</td>\n",
              "      <td>215.470001</td>\n",
              "      <td>212.800003</td>\n",
              "      <td>215.369995</td>\n",
              "      <td>211.597000</td>\n",
              "      <td>23724500</td>\n",
              "    </tr>\n",
              "    <tr>\n",
              "      <th>4</th>\n",
              "      <td>2020-12-03</td>\n",
              "      <td>214.610001</td>\n",
              "      <td>216.380005</td>\n",
              "      <td>213.649994</td>\n",
              "      <td>214.240005</td>\n",
              "      <td>210.486816</td>\n",
              "      <td>25120900</td>\n",
              "    </tr>\n",
              "    <tr>\n",
              "      <th>...</th>\n",
              "      <td>...</td>\n",
              "      <td>...</td>\n",
              "      <td>...</td>\n",
              "      <td>...</td>\n",
              "      <td>...</td>\n",
              "      <td>...</td>\n",
              "      <td>...</td>\n",
              "    </tr>\n",
              "    <tr>\n",
              "      <th>498</th>\n",
              "      <td>2022-11-18</td>\n",
              "      <td>243.509995</td>\n",
              "      <td>243.740005</td>\n",
              "      <td>239.029999</td>\n",
              "      <td>241.220001</td>\n",
              "      <td>241.220001</td>\n",
              "      <td>27591800</td>\n",
              "    </tr>\n",
              "    <tr>\n",
              "      <th>499</th>\n",
              "      <td>2022-11-21</td>\n",
              "      <td>241.429993</td>\n",
              "      <td>244.669998</td>\n",
              "      <td>241.190002</td>\n",
              "      <td>242.050003</td>\n",
              "      <td>242.050003</td>\n",
              "      <td>26394700</td>\n",
              "    </tr>\n",
              "    <tr>\n",
              "      <th>500</th>\n",
              "      <td>2022-11-22</td>\n",
              "      <td>243.589996</td>\n",
              "      <td>245.309998</td>\n",
              "      <td>240.710007</td>\n",
              "      <td>245.029999</td>\n",
              "      <td>245.029999</td>\n",
              "      <td>19665700</td>\n",
              "    </tr>\n",
              "    <tr>\n",
              "      <th>501</th>\n",
              "      <td>2022-11-23</td>\n",
              "      <td>245.110001</td>\n",
              "      <td>248.279999</td>\n",
              "      <td>244.270004</td>\n",
              "      <td>247.580002</td>\n",
              "      <td>247.580002</td>\n",
              "      <td>19508500</td>\n",
              "    </tr>\n",
              "    <tr>\n",
              "      <th>502</th>\n",
              "      <td>2022-11-25</td>\n",
              "      <td>247.309998</td>\n",
              "      <td>248.699997</td>\n",
              "      <td>246.729996</td>\n",
              "      <td>247.490005</td>\n",
              "      <td>247.490005</td>\n",
              "      <td>9200800</td>\n",
              "    </tr>\n",
              "  </tbody>\n",
              "</table>\n",
              "<p>503 rows × 7 columns</p>\n",
              "</div>\n",
              "      <button class=\"colab-df-convert\" onclick=\"convertToInteractive('df-2698eb31-f7fc-459c-8ea3-b0c252cea393')\"\n",
              "              title=\"Convert this dataframe to an interactive table.\"\n",
              "              style=\"display:none;\">\n",
              "        \n",
              "  <svg xmlns=\"http://www.w3.org/2000/svg\" height=\"24px\"viewBox=\"0 0 24 24\"\n",
              "       width=\"24px\">\n",
              "    <path d=\"M0 0h24v24H0V0z\" fill=\"none\"/>\n",
              "    <path d=\"M18.56 5.44l.94 2.06.94-2.06 2.06-.94-2.06-.94-.94-2.06-.94 2.06-2.06.94zm-11 1L8.5 8.5l.94-2.06 2.06-.94-2.06-.94L8.5 2.5l-.94 2.06-2.06.94zm10 10l.94 2.06.94-2.06 2.06-.94-2.06-.94-.94-2.06-.94 2.06-2.06.94z\"/><path d=\"M17.41 7.96l-1.37-1.37c-.4-.4-.92-.59-1.43-.59-.52 0-1.04.2-1.43.59L10.3 9.45l-7.72 7.72c-.78.78-.78 2.05 0 2.83L4 21.41c.39.39.9.59 1.41.59.51 0 1.02-.2 1.41-.59l7.78-7.78 2.81-2.81c.8-.78.8-2.07 0-2.86zM5.41 20L4 18.59l7.72-7.72 1.47 1.35L5.41 20z\"/>\n",
              "  </svg>\n",
              "      </button>\n",
              "      \n",
              "  <style>\n",
              "    .colab-df-container {\n",
              "      display:flex;\n",
              "      flex-wrap:wrap;\n",
              "      gap: 12px;\n",
              "    }\n",
              "\n",
              "    .colab-df-convert {\n",
              "      background-color: #E8F0FE;\n",
              "      border: none;\n",
              "      border-radius: 50%;\n",
              "      cursor: pointer;\n",
              "      display: none;\n",
              "      fill: #1967D2;\n",
              "      height: 32px;\n",
              "      padding: 0 0 0 0;\n",
              "      width: 32px;\n",
              "    }\n",
              "\n",
              "    .colab-df-convert:hover {\n",
              "      background-color: #E2EBFA;\n",
              "      box-shadow: 0px 1px 2px rgba(60, 64, 67, 0.3), 0px 1px 3px 1px rgba(60, 64, 67, 0.15);\n",
              "      fill: #174EA6;\n",
              "    }\n",
              "\n",
              "    [theme=dark] .colab-df-convert {\n",
              "      background-color: #3B4455;\n",
              "      fill: #D2E3FC;\n",
              "    }\n",
              "\n",
              "    [theme=dark] .colab-df-convert:hover {\n",
              "      background-color: #434B5C;\n",
              "      box-shadow: 0px 1px 3px 1px rgba(0, 0, 0, 0.15);\n",
              "      filter: drop-shadow(0px 1px 2px rgba(0, 0, 0, 0.3));\n",
              "      fill: #FFFFFF;\n",
              "    }\n",
              "  </style>\n",
              "\n",
              "      <script>\n",
              "        const buttonEl =\n",
              "          document.querySelector('#df-2698eb31-f7fc-459c-8ea3-b0c252cea393 button.colab-df-convert');\n",
              "        buttonEl.style.display =\n",
              "          google.colab.kernel.accessAllowed ? 'block' : 'none';\n",
              "\n",
              "        async function convertToInteractive(key) {\n",
              "          const element = document.querySelector('#df-2698eb31-f7fc-459c-8ea3-b0c252cea393');\n",
              "          const dataTable =\n",
              "            await google.colab.kernel.invokeFunction('convertToInteractive',\n",
              "                                                     [key], {});\n",
              "          if (!dataTable) return;\n",
              "\n",
              "          const docLinkHtml = 'Like what you see? Visit the ' +\n",
              "            '<a target=\"_blank\" href=https://colab.research.google.com/notebooks/data_table.ipynb>data table notebook</a>'\n",
              "            + ' to learn more about interactive tables.';\n",
              "          element.innerHTML = '';\n",
              "          dataTable['output_type'] = 'display_data';\n",
              "          await google.colab.output.renderOutput(dataTable, element);\n",
              "          const docLink = document.createElement('div');\n",
              "          docLink.innerHTML = docLinkHtml;\n",
              "          element.appendChild(docLink);\n",
              "        }\n",
              "      </script>\n",
              "    </div>\n",
              "  </div>\n",
              "  "
            ]
          },
          "metadata": {},
          "execution_count": 32
        }
      ],
      "source": [
        "df = pd.read_csv('MSFT.csv')\n",
        "df"
      ]
    },
    {
      "cell_type": "code",
      "source": [
        "df['Daily_return'] = df['Adj Close'].pct_change()"
      ],
      "metadata": {
        "id": "Md8NXNDAuSuF"
      },
      "execution_count": 33,
      "outputs": []
    },
    {
      "cell_type": "markdown",
      "source": [
        "Let's look at the daily changes of the stock as percentage using line plot and histogram."
      ],
      "metadata": {
        "id": "BQP78QCGvaKt"
      }
    },
    {
      "cell_type": "code",
      "source": [
        "plt.figure()\n",
        "plt.figure(figsize=[20,5])\n",
        "plt.subplot(121)\n",
        "plt.plot(df['Daily_return']);\n",
        "\n",
        "plt.subplot(122)\n",
        "plt.hist(df['Daily_return'],bins=50);"
      ],
      "metadata": {
        "colab": {
          "base_uri": "https://localhost:8080/",
          "height": 337
        },
        "id": "6yj_7G5VGUE1",
        "outputId": "c6db2040-193a-499a-9289-2b35d4092292"
      },
      "execution_count": 56,
      "outputs": [
        {
          "output_type": "display_data",
          "data": {
            "text/plain": [
              "<Figure size 432x288 with 0 Axes>"
            ]
          },
          "metadata": {}
        },
        {
          "output_type": "display_data",
          "data": {
            "text/plain": [
              "<Figure size 1440x360 with 2 Axes>"
            ],
            "image/png": "[encoded data removed]"
          },
          "metadata": {
            "needs_background": "light"
          }
        }
      ]
    },
    {
      "cell_type": "code",
      "execution_count": 57,
      "metadata": {
        "colab": {
          "base_uri": "https://localhost:8080/",
          "height": 424
        },
        "id": "EkiSU04yO3ap",
        "outputId": "dd96ebf5-e276-421f-b99a-2ca3bf2d6c0e"
      },
      "outputs": [
        {
          "output_type": "execute_result",
          "data": {
            "text/plain": [
              "           Date       Close\n",
              "0    2020-11-27  215.229996\n",
              "1    2020-11-30  214.070007\n",
              "2    2020-12-01  216.210007\n",
              "3    2020-12-02  215.369995\n",
              "4    2020-12-03  214.240005\n",
              "..          ...         ...\n",
              "498  2022-11-18  241.220001\n",
              "499  2022-11-21  242.050003\n",
              "500  2022-11-22  245.029999\n",
              "501  2022-11-23  247.580002\n",
              "502  2022-11-25  247.490005\n",
              "\n",
              "[503 rows x 2 columns]"
            ],
            "text/html": [
              "\n",
              "  <div id=\"df-7d25ab5c-9b6d-49e1-824e-c8ec6d8b64f9\">\n",
              "    <div class=\"colab-df-container\">\n",
              "      <div>\n",
              "<style scoped>\n",
              "    .dataframe tbody tr th:only-of-type {\n",
              "        vertical-align: middle;\n",
              "    }\n",
              "\n",
              "    .dataframe tbody tr th {\n",
              "        vertical-align: top;\n",
              "    }\n",
              "\n",
              "    .dataframe thead th {\n",
              "        text-align: right;\n",
              "    }\n",
              "</style>\n",
              "<table border=\"1\" class=\"dataframe\">\n",
              "  <thead>\n",
              "    <tr style=\"text-align: right;\">\n",
              "      <th></th>\n",
              "      <th>Date</th>\n",
              "      <th>Close</th>\n",
              "    </tr>\n",
              "  </thead>\n",
              "  <tbody>\n",
              "    <tr>\n",
              "      <th>0</th>\n",
              "      <td>2020-11-27</td>\n",
              "      <td>215.229996</td>\n",
              "    </tr>\n",
              "    <tr>\n",
              "      <th>1</th>\n",
              "      <td>2020-11-30</td>\n",
              "      <td>214.070007</td>\n",
              "    </tr>\n",
              "    <tr>\n",
              "      <th>2</th>\n",
              "      <td>2020-12-01</td>\n",
              "      <td>216.210007</td>\n",
              "    </tr>\n",
              "    <tr>\n",
              "      <th>3</th>\n",
              "      <td>2020-12-02</td>\n",
              "      <td>215.369995</td>\n",
              "    </tr>\n",
              "    <tr>\n",
              "      <th>4</th>\n",
              "      <td>2020-12-03</td>\n",
              "      <td>214.240005</td>\n",
              "    </tr>\n",
              "    <tr>\n",
              "      <th>...</th>\n",
              "      <td>...</td>\n",
              "      <td>...</td>\n",
              "    </tr>\n",
              "    <tr>\n",
              "      <th>498</th>\n",
              "      <td>2022-11-18</td>\n",
              "      <td>241.220001</td>\n",
              "    </tr>\n",
              "    <tr>\n",
              "      <th>499</th>\n",
              "      <td>2022-11-21</td>\n",
              "      <td>242.050003</td>\n",
              "    </tr>\n",
              "    <tr>\n",
              "      <th>500</th>\n",
              "      <td>2022-11-22</td>\n",
              "      <td>245.029999</td>\n",
              "    </tr>\n",
              "    <tr>\n",
              "      <th>501</th>\n",
              "      <td>2022-11-23</td>\n",
              "      <td>247.580002</td>\n",
              "    </tr>\n",
              "    <tr>\n",
              "      <th>502</th>\n",
              "      <td>2022-11-25</td>\n",
              "      <td>247.490005</td>\n",
              "    </tr>\n",
              "  </tbody>\n",
              "</table>\n",
              "<p>503 rows × 2 columns</p>\n",
              "</div>\n",
              "      <button class=\"colab-df-convert\" onclick=\"convertToInteractive('df-7d25ab5c-9b6d-49e1-824e-c8ec6d8b64f9')\"\n",
              "              title=\"Convert this dataframe to an interactive table.\"\n",
              "              style=\"display:none;\">\n",
              "        \n",
              "  <svg xmlns=\"http://www.w3.org/2000/svg\" height=\"24px\"viewBox=\"0 0 24 24\"\n",
              "       width=\"24px\">\n",
              "    <path d=\"M0 0h24v24H0V0z\" fill=\"none\"/>\n",
              "    <path d=\"M18.56 5.44l.94 2.06.94-2.06 2.06-.94-2.06-.94-.94-2.06-.94 2.06-2.06.94zm-11 1L8.5 8.5l.94-2.06 2.06-.94-2.06-.94L8.5 2.5l-.94 2.06-2.06.94zm10 10l.94 2.06.94-2.06 2.06-.94-2.06-.94-.94-2.06-.94 2.06-2.06.94z\"/><path d=\"M17.41 7.96l-1.37-1.37c-.4-.4-.92-.59-1.43-.59-.52 0-1.04.2-1.43.59L10.3 9.45l-7.72 7.72c-.78.78-.78 2.05 0 2.83L4 21.41c.39.39.9.59 1.41.59.51 0 1.02-.2 1.41-.59l7.78-7.78 2.81-2.81c.8-.78.8-2.07 0-2.86zM5.41 20L4 18.59l7.72-7.72 1.47 1.35L5.41 20z\"/>\n",
              "  </svg>\n",
              "      </button>\n",
              "      \n",
              "  <style>\n",
              "    .colab-df-container {\n",
              "      display:flex;\n",
              "      flex-wrap:wrap;\n",
              "      gap: 12px;\n",
              "    }\n",
              "\n",
              "    .colab-df-convert {\n",
              "      background-color: #E8F0FE;\n",
              "      border: none;\n",
              "      border-radius: 50%;\n",
              "      cursor: pointer;\n",
              "      display: none;\n",
              "      fill: #1967D2;\n",
              "      height: 32px;\n",
              "      padding: 0 0 0 0;\n",
              "      width: 32px;\n",
              "    }\n",
              "\n",
              "    .colab-df-convert:hover {\n",
              "      background-color: #E2EBFA;\n",
              "      box-shadow: 0px 1px 2px rgba(60, 64, 67, 0.3), 0px 1px 3px 1px rgba(60, 64, 67, 0.15);\n",
              "      fill: #174EA6;\n",
              "    }\n",
              "\n",
              "    [theme=dark] .colab-df-convert {\n",
              "      background-color: #3B4455;\n",
              "      fill: #D2E3FC;\n",
              "    }\n",
              "\n",
              "    [theme=dark] .colab-df-convert:hover {\n",
              "      background-color: #434B5C;\n",
              "      box-shadow: 0px 1px 3px 1px rgba(0, 0, 0, 0.15);\n",
              "      filter: drop-shadow(0px 1px 2px rgba(0, 0, 0, 0.3));\n",
              "      fill: #FFFFFF;\n",
              "    }\n",
              "  </style>\n",
              "\n",
              "      <script>\n",
              "        const buttonEl =\n",
              "          document.querySelector('#df-7d25ab5c-9b6d-49e1-824e-c8ec6d8b64f9 button.colab-df-convert');\n",
              "        buttonEl.style.display =\n",
              "          google.colab.kernel.accessAllowed ? 'block' : 'none';\n",
              "\n",
              "        async function convertToInteractive(key) {\n",
              "          const element = document.querySelector('#df-7d25ab5c-9b6d-49e1-824e-c8ec6d8b64f9');\n",
              "          const dataTable =\n",
              "            await google.colab.kernel.invokeFunction('convertToInteractive',\n",
              "                                                     [key], {});\n",
              "          if (!dataTable) return;\n",
              "\n",
              "          const docLinkHtml = 'Like what you see? Visit the ' +\n",
              "            '<a target=\"_blank\" href=https://colab.research.google.com/notebooks/data_table.ipynb>data table notebook</a>'\n",
              "            + ' to learn more about interactive tables.';\n",
              "          element.innerHTML = '';\n",
              "          dataTable['output_type'] = 'display_data';\n",
              "          await google.colab.output.renderOutput(dataTable, element);\n",
              "          const docLink = document.createElement('div');\n",
              "          docLink.innerHTML = docLinkHtml;\n",
              "          element.appendChild(docLink);\n",
              "        }\n",
              "      </script>\n",
              "    </div>\n",
              "  </div>\n",
              "  "
            ]
          },
          "metadata": {},
          "execution_count": 57
        }
      ],
      "source": [
        "df = df[['Date','Close']]\n",
        "df"
      ]
    },
    {
      "cell_type": "code",
      "execution_count": null,
      "metadata": {
        "colab": {
          "base_uri": "https://localhost:8080/"
        },
        "id": "UQ6uoRy5O3aq",
        "outputId": "f743f2e2-2851-4f39-e587-aae10408574c"
      },
      "outputs": [
        {
          "name": "stdout",
          "output_type": "stream",
          "text": [
            "<class 'pandas.core.frame.DataFrame'>\n",
            "RangeIndex: 503 entries, 0 to 502\n",
            "Data columns (total 2 columns):\n",
            " #   Column  Non-Null Count  Dtype  \n",
            "---  ------  --------------  -----  \n",
            " 0   Date    503 non-null    object \n",
            " 1   Close   503 non-null    float64\n",
            "dtypes: float64(1), object(1)\n",
            "memory usage: 8.0+ KB\n"
          ]
        }
      ],
      "source": [
        "df.info()"
      ]
    },
    {
      "cell_type": "code",
      "execution_count": null,
      "metadata": {
        "id": "091c4S8yO3aq"
      },
      "outputs": [],
      "source": [
        "# First change the datatype of column 'Date' from 'object' to 'datetime64[ns]'\n",
        "import datetime\n",
        "\n",
        "def to_datetime(s):\n",
        "    date = s.split('-')\n",
        "    return datetime.datetime(year=int(date[0]),month=int(date[1]),day=int(date[2]))"
      ]
    },
    {
      "cell_type": "code",
      "execution_count": null,
      "metadata": {
        "colab": {
          "base_uri": "https://localhost:8080/"
        },
        "id": "T2U_wWpuO3ar",
        "outputId": "048b890d-757f-4f87-b3ae-8fc3b0f5991f"
      },
      "outputs": [
        {
          "name": "stderr",
          "output_type": "stream",
          "text": [
            "/usr/local/lib/python3.7/dist-packages/ipykernel_launcher.py:1: SettingWithCopyWarning: \n",
            "A value is trying to be set on a copy of a slice from a DataFrame.\n",
            "Try using .loc[row_indexer,col_indexer] = value instead\n",
            "\n",
            "See the caveats in the documentation: https://pandas.pydata.org/pandas-docs/stable/user_guide/indexing.html#returning-a-view-versus-a-copy\n",
            "  \"\"\"Entry point for launching an IPython kernel.\n"
          ]
        }
      ],
      "source": [
        "df['Date'] = df['Date'].apply(to_datetime)"
      ]
    },
    {
      "cell_type": "code",
      "execution_count": null,
      "metadata": {
        "colab": {
          "base_uri": "https://localhost:8080/"
        },
        "id": "fetThyHTO3ar",
        "outputId": "240d7475-104c-460a-9959-83c771e37c93"
      },
      "outputs": [
        {
          "name": "stdout",
          "output_type": "stream",
          "text": [
            "<class 'pandas.core.frame.DataFrame'>\n",
            "RangeIndex: 503 entries, 0 to 502\n",
            "Data columns (total 2 columns):\n",
            " #   Column  Non-Null Count  Dtype         \n",
            "---  ------  --------------  -----         \n",
            " 0   Date    503 non-null    datetime64[ns]\n",
            " 1   Close   503 non-null    float64       \n",
            "dtypes: datetime64[ns](1), float64(1)\n",
            "memory usage: 8.0 KB\n"
          ]
        }
      ],
      "source": [
        "df.info()"
      ]
    },
    {
      "cell_type": "code",
      "execution_count": null,
      "metadata": {
        "colab": {
          "base_uri": "https://localhost:8080/"
        },
        "id": "_yR1BYhLO3ar",
        "outputId": "46ba0147-8afc-48b4-d600-4b05bd322d54"
      },
      "outputs": [
        {
          "data": {
            "text/plain": [
              "0      215.229996\n",
              "1      214.070007\n",
              "2      216.210007\n",
              "3      215.369995\n",
              "4      214.240005\n",
              "          ...    \n",
              "498    241.220001\n",
              "499    242.050003\n",
              "500    245.029999\n",
              "501    247.580002\n",
              "502    247.490005\n",
              "Name: Close, Length: 503, dtype: float64"
            ]
          },
          "execution_count": 90,
          "metadata": {},
          "output_type": "execute_result"
        }
      ],
      "source": [
        "df1 = df.Close\n",
        "df1"
      ]
    },
    {
      "cell_type": "code",
      "execution_count": null,
      "metadata": {
        "colab": {
          "base_uri": "https://localhost:8080/",
          "height": 295
        },
        "id": "PB_ZmljCO3as",
        "outputId": "5ccec4e2-1e68-4b78-c952-de5541f4cffb"
      },
      "outputs": [
        {
          "data": {
            "image/png": "[encoded data removed]",
            "text/plain": [
              "<Figure size 432x288 with 1 Axes>"
            ]
          },
          "metadata": {
            "needs_background": "light"
          },
          "output_type": "display_data"
        }
      ],
      "source": [
        "plt.title('Microsoft stock price over time')\n",
        "plt.plot(df.Date, df.Close)\n",
        "plt.xlabel('Time')\n",
        "plt.ylabel('Stock price')\n",
        "plt.show()"
      ]
    },
    {
      "cell_type": "code",
      "execution_count": null,
      "metadata": {
        "id": "eRo_FgajO3at"
      },
      "outputs": [],
      "source": [
        "# Split dataset into training and test dataset\n",
        "train_size = int(len(df1)*0.7)\n",
        "test_size = len(df1) - train_size"
      ]
    },
    {
      "cell_type": "code",
      "execution_count": null,
      "metadata": {
        "colab": {
          "base_uri": "https://localhost:8080/"
        },
        "id": "DHqmt-ZxvaCS",
        "outputId": "22521a64-256f-4d5f-b40d-f647fbf75b79"
      },
      "outputs": [
        {
          "data": {
            "text/plain": [
              "(352, 151, 503)"
            ]
          },
          "execution_count": 92,
          "metadata": {},
          "output_type": "execute_result"
        }
      ],
      "source": [
        "train_size,test_size,len(df1)"
      ]
    },
    {
      "cell_type": "code",
      "execution_count": null,
      "metadata": {
        "id": "cD2cKVdtO3at"
      },
      "outputs": [],
      "source": [
        "train,test = df1[0:train_size],df1[train_size:len(df1)]"
      ]
    },
    {
      "cell_type": "code",
      "execution_count": null,
      "metadata": {
        "id": "ufwSNSzfv--G"
      },
      "outputs": [],
      "source": [
        "# Feature engineering\n",
        "# Scale the date\n",
        "from sklearn.preprocessing import MinMaxScaler\n",
        "scaler = MinMaxScaler(feature_range=(0,1))\n",
        "train = scaler.fit_transform(np.array(train).reshape(-1,1))\n",
        "test = scaler.transform(np.array(test).reshape(-1,1))"
      ]
    },
    {
      "cell_type": "code",
      "execution_count": null,
      "metadata": {
        "id": "6mDsF9spO3at"
      },
      "outputs": [],
      "source": [
        "def create_database(data,test_size=1):\n",
        "    X,Y = [],[]\n",
        "    for i in range(len(data)-test_size-1):\n",
        "        f = data[i:(i+test_size),0]\n",
        "        X.append(f)\n",
        "        Y.append(data[i+test_size,0])\n",
        "    return np.array(X),np.array(Y)"
      ]
    },
    {
      "cell_type": "code",
      "execution_count": null,
      "metadata": {
        "id": "gOMIuPsGO3at"
      },
      "outputs": [],
      "source": [
        "test_size = 10\n",
        "X_train,y_train = create_database(train,test_size)\n",
        "X_test,y_test = create_database(test,test_size)"
      ]
    },
    {
      "cell_type": "code",
      "execution_count": null,
      "metadata": {
        "colab": {
          "base_uri": "https://localhost:8080/"
        },
        "id": "5zcvIrZxO3au",
        "outputId": "07f4c2ed-fbe1-400b-a87f-5d83500bc031"
      },
      "outputs": [
        {
          "name": "stdout",
          "output_type": "stream",
          "text": [
            "(341, 10) (140, 10)\n"
          ]
        }
      ],
      "source": [
        "print(X_train.shape,X_test.shape)"
      ]
    },
    {
      "cell_type": "code",
      "execution_count": null,
      "metadata": {
        "id": "owyuF_5HO3au"
      },
      "outputs": [],
      "source": [
        "# Reshape the input to be [samples, time steps, features] which is required in LSTM\n",
        "X_train = X_train.reshape(X_train.shape[0],X_train.shape[1],1)\n",
        "X_test = X_test.reshape(X_test.shape[0],X_test.shape[1],1)"
      ]
    },
    {
      "cell_type": "code",
      "execution_count": null,
      "metadata": {
        "colab": {
          "base_uri": "https://localhost:8080/"
        },
        "id": "hdotKrWXO3au",
        "outputId": "2ec5f054-0fd7-4d47-fb1b-a8d8d7675738"
      },
      "outputs": [
        {
          "name": "stdout",
          "output_type": "stream",
          "text": [
            "Looking in indexes: https://pypi.org/simple, https://us-python.pkg.dev/colab-wheels/public/simple/\n",
            "Collecting tensorflow-gpu\n",
            "  Downloading tensorflow_gpu-2.11.0-cp37-cp37m-manylinux_2_17_x86_64.manylinux2014_x86_64.whl (588.3 MB)\n",
            "\u001b[K     |████████████████████████████████| 588.3 MB 6.9 kB/s \n",
            "\u001b[?25hCollecting keras<2.12,>=2.11.0\n",
            "  Downloading keras-2.11.0-py2.py3-none-any.whl (1.7 MB)\n",
            "\u001b[K     |████████████████████████████████| 1.7 MB 49.1 MB/s \n",
            "\u001b[?25hRequirement already satisfied: six>=1.12.0 in /usr/local/lib/python3.7/dist-packages (from tensorflow-gpu) (1.15.0)\n",
            "Requirement already satisfied: h5py>=2.9.0 in /usr/local/lib/python3.7/dist-packages (from tensorflow-gpu) (3.1.0)\n",
            "Requirement already satisfied: typing-extensions>=3.6.6 in /usr/local/lib/python3.7/dist-packages (from tensorflow-gpu) (4.1.1)\n",
            "Requirement already satisfied: opt-einsum>=2.3.2 in /usr/local/lib/python3.7/dist-packages (from tensorflow-gpu) (3.3.0)\n",
            "Requirement already satisfied: wrapt>=1.11.0 in /usr/local/lib/python3.7/dist-packages (from tensorflow-gpu) (1.14.1)\n",
            "Requirement already satisfied: libclang>=13.0.0 in /usr/local/lib/python3.7/dist-packages (from tensorflow-gpu) (14.0.6)\n",
            "Collecting flatbuffers>=2.0\n",
            "  Downloading flatbuffers-22.11.23-py2.py3-none-any.whl (26 kB)\n",
            "Requirement already satisfied: gast<=0.4.0,>=0.2.1 in /usr/local/lib/python3.7/dist-packages (from tensorflow-gpu) (0.4.0)\n",
            "Requirement already satisfied: astunparse>=1.6.0 in /usr/local/lib/python3.7/dist-packages (from tensorflow-gpu) (1.6.3)\n",
            "Collecting tensorboard<2.12,>=2.11\n",
            "  Downloading tensorboard-2.11.0-py3-none-any.whl (6.0 MB)\n",
            "\u001b[K     |████████████████████████████████| 6.0 MB 30.0 MB/s \n",
            "\u001b[?25hRequirement already satisfied: termcolor>=1.1.0 in /usr/local/lib/python3.7/dist-packages (from tensorflow-gpu) (2.1.0)\n",
            "Requirement already satisfied: packaging in /usr/local/lib/python3.7/dist-packages (from tensorflow-gpu) (21.3)\n",
            "Collecting tensorflow-estimator<2.12,>=2.11.0\n",
            "  Downloading tensorflow_estimator-2.11.0-py2.py3-none-any.whl (439 kB)\n",
            "\u001b[K     |████████████████████████████████| 439 kB 65.4 MB/s \n",
            "\u001b[?25hRequirement already satisfied: setuptools in /usr/local/lib/python3.7/dist-packages (from tensorflow-gpu) (57.4.0)\n",
            "Requirement already satisfied: absl-py>=1.0.0 in /usr/local/lib/python3.7/dist-packages (from tensorflow-gpu) (1.3.0)\n",
            "Requirement already satisfied: grpcio<2.0,>=1.24.3 in /usr/local/lib/python3.7/dist-packages (from tensorflow-gpu) (1.50.0)\n",
            "Requirement already satisfied: google-pasta>=0.1.1 in /usr/local/lib/python3.7/dist-packages (from tensorflow-gpu) (0.2.0)\n",
            "Requirement already satisfied: tensorflow-io-gcs-filesystem>=0.23.1 in /usr/local/lib/python3.7/dist-packages (from tensorflow-gpu) (0.27.0)\n",
            "Requirement already satisfied: numpy>=1.20 in /usr/local/lib/python3.7/dist-packages (from tensorflow-gpu) (1.21.6)\n",
            "Requirement already satisfied: protobuf<3.20,>=3.9.2 in /usr/local/lib/python3.7/dist-packages (from tensorflow-gpu) (3.19.6)\n",
            "Requirement already satisfied: wheel<1.0,>=0.23.0 in /usr/local/lib/python3.7/dist-packages (from astunparse>=1.6.0->tensorflow-gpu) (0.38.4)\n",
            "Requirement already satisfied: cached-property in /usr/local/lib/python3.7/dist-packages (from h5py>=2.9.0->tensorflow-gpu) (1.5.2)\n",
            "Requirement already satisfied: tensorboard-data-server<0.7.0,>=0.6.0 in /usr/local/lib/python3.7/dist-packages (from tensorboard<2.12,>=2.11->tensorflow-gpu) (0.6.1)\n",
            "Requirement already satisfied: tensorboard-plugin-wit>=1.6.0 in /usr/local/lib/python3.7/dist-packages (from tensorboard<2.12,>=2.11->tensorflow-gpu) (1.8.1)\n",
            "Requirement already satisfied: google-auth-oauthlib<0.5,>=0.4.1 in /usr/local/lib/python3.7/dist-packages (from tensorboard<2.12,>=2.11->tensorflow-gpu) (0.4.6)\n",
            "Requirement already satisfied: markdown>=2.6.8 in /usr/local/lib/python3.7/dist-packages (from tensorboard<2.12,>=2.11->tensorflow-gpu) (3.4.1)\n",
            "Requirement already satisfied: google-auth<3,>=1.6.3 in /usr/local/lib/python3.7/dist-packages (from tensorboard<2.12,>=2.11->tensorflow-gpu) (2.14.1)\n",
            "Requirement already satisfied: requests<3,>=2.21.0 in /usr/local/lib/python3.7/dist-packages (from tensorboard<2.12,>=2.11->tensorflow-gpu) (2.23.0)\n",
            "Requirement already satisfied: werkzeug>=1.0.1 in /usr/local/lib/python3.7/dist-packages (from tensorboard<2.12,>=2.11->tensorflow-gpu) (1.0.1)\n",
            "Requirement already satisfied: pyasn1-modules>=0.2.1 in /usr/local/lib/python3.7/dist-packages (from google-auth<3,>=1.6.3->tensorboard<2.12,>=2.11->tensorflow-gpu) (0.2.8)\n",
            "Requirement already satisfied: cachetools<6.0,>=2.0.0 in /usr/local/lib/python3.7/dist-packages (from google-auth<3,>=1.6.3->tensorboard<2.12,>=2.11->tensorflow-gpu) (5.2.0)\n",
            "Requirement already satisfied: rsa<5,>=3.1.4 in /usr/local/lib/python3.7/dist-packages (from google-auth<3,>=1.6.3->tensorboard<2.12,>=2.11->tensorflow-gpu) (4.9)\n",
            "Requirement already satisfied: requests-oauthlib>=0.7.0 in /usr/local/lib/python3.7/dist-packages (from google-auth-oauthlib<0.5,>=0.4.1->tensorboard<2.12,>=2.11->tensorflow-gpu) (1.3.1)\n",
            "Requirement already satisfied: importlib-metadata>=4.4 in /usr/local/lib/python3.7/dist-packages (from markdown>=2.6.8->tensorboard<2.12,>=2.11->tensorflow-gpu) (4.13.0)\n",
            "Requirement already satisfied: zipp>=0.5 in /usr/local/lib/python3.7/dist-packages (from importlib-metadata>=4.4->markdown>=2.6.8->tensorboard<2.12,>=2.11->tensorflow-gpu) (3.10.0)\n",
            "Requirement already satisfied: pyasn1<0.5.0,>=0.4.6 in /usr/local/lib/python3.7/dist-packages (from pyasn1-modules>=0.2.1->google-auth<3,>=1.6.3->tensorboard<2.12,>=2.11->tensorflow-gpu) (0.4.8)\n",
            "Requirement already satisfied: idna<3,>=2.5 in /usr/local/lib/python3.7/dist-packages (from requests<3,>=2.21.0->tensorboard<2.12,>=2.11->tensorflow-gpu) (2.10)\n",
            "Requirement already satisfied: urllib3!=1.25.0,!=1.25.1,<1.26,>=1.21.1 in /usr/local/lib/python3.7/dist-packages (from requests<3,>=2.21.0->tensorboard<2.12,>=2.11->tensorflow-gpu) (1.24.3)\n",
            "Requirement already satisfied: chardet<4,>=3.0.2 in /usr/local/lib/python3.7/dist-packages (from requests<3,>=2.21.0->tensorboard<2.12,>=2.11->tensorflow-gpu) (3.0.4)\n",
            "Requirement already satisfied: certifi>=2017.4.17 in /usr/local/lib/python3.7/dist-packages (from requests<3,>=2.21.0->tensorboard<2.12,>=2.11->tensorflow-gpu) (2022.9.24)\n",
            "Requirement already satisfied: oauthlib>=3.0.0 in /usr/local/lib/python3.7/dist-packages (from requests-oauthlib>=0.7.0->google-auth-oauthlib<0.5,>=0.4.1->tensorboard<2.12,>=2.11->tensorflow-gpu) (3.2.2)\n",
            "Requirement already satisfied: pyparsing!=3.0.5,>=2.0.2 in /usr/local/lib/python3.7/dist-packages (from packaging->tensorflow-gpu) (3.0.9)\n",
            "Installing collected packages: tensorflow-estimator, tensorboard, keras, flatbuffers, tensorflow-gpu\n",
            "  Attempting uninstall: tensorflow-estimator\n",
            "    Found existing installation: tensorflow-estimator 2.9.0\n",
            "    Uninstalling tensorflow-estimator-2.9.0:\n",
            "      Successfully uninstalled tensorflow-estimator-2.9.0\n",
            "  Attempting uninstall: tensorboard\n",
            "    Found existing installation: tensorboard 2.9.1\n",
            "    Uninstalling tensorboard-2.9.1:\n",
            "      Successfully uninstalled tensorboard-2.9.1\n",
            "  Attempting uninstall: keras\n",
            "    Found existing installation: keras 2.9.0\n",
            "    Uninstalling keras-2.9.0:\n",
            "      Successfully uninstalled keras-2.9.0\n",
            "  Attempting uninstall: flatbuffers\n",
            "    Found existing installation: flatbuffers 1.12\n",
            "    Uninstalling flatbuffers-1.12:\n",
            "      Successfully uninstalled flatbuffers-1.12\n",
            "\u001b[31mERROR: pip's dependency resolver does not currently take into account all the packages that are installed. This behaviour is the source of the following dependency conflicts.\n",
            "tensorflow 2.9.2 requires flatbuffers<2,>=1.12, but you have flatbuffers 22.11.23 which is incompatible.\n",
            "tensorflow 2.9.2 requires keras<2.10.0,>=2.9.0rc0, but you have keras 2.11.0 which is incompatible.\n",
            "tensorflow 2.9.2 requires tensorboard<2.10,>=2.9, but you have tensorboard 2.11.0 which is incompatible.\n",
            "tensorflow 2.9.2 requires tensorflow-estimator<2.10.0,>=2.9.0rc0, but you have tensorflow-estimator 2.11.0 which is incompatible.\u001b[0m\n",
            "Successfully installed flatbuffers-22.11.23 keras-2.11.0 tensorboard-2.11.0 tensorflow-estimator-2.11.0 tensorflow-gpu-2.11.0\n"
          ]
        }
      ],
      "source": [
        "!pip install tensorflow-gpu"
      ]
    },
    {
      "cell_type": "code",
      "execution_count": null,
      "metadata": {
        "id": "ha4IITrMO3au"
      },
      "outputs": [],
      "source": [
        "# Create the stacked LSTM model\n",
        "from tensorflow.keras.models import Sequential\n",
        "from tensorflow.keras.layers import Dense\n",
        "from tensorflow.keras.layers import LSTM"
      ]
    },
    {
      "cell_type": "code",
      "execution_count": null,
      "metadata": {
        "id": "nrAPg3jiO3av"
      },
      "outputs": [],
      "source": [
        "model = Sequential()\n",
        "model.add(LSTM(50,return_sequences=True,input_shape=(10,1)))\n",
        "model.add(LSTM(50,return_sequences=True))\n",
        "model.add(LSTM(50))\n",
        "model.add(Dense(1))\n",
        "model.compile(loss='mean_squared_error',optimizer='adam')"
      ]
    },
    {
      "cell_type": "code",
      "execution_count": null,
      "metadata": {
        "colab": {
          "base_uri": "https://localhost:8080/"
        },
        "id": "47sblu3jSZyV",
        "outputId": "67b86603-f91f-46c7-b2f8-ce4678a9f89a"
      },
      "outputs": [
        {
          "name": "stdout",
          "output_type": "stream",
          "text": [
            "Model: \"sequential_1\"\n",
            "_________________________________________________________________\n",
            " Layer (type)                Output Shape              Param #   \n",
            "=================================================================\n",
            " lstm_3 (LSTM)               (None, 10, 50)            10400     \n",
            "                                                                 \n",
            " lstm_4 (LSTM)               (None, 10, 50)            20200     \n",
            "                                                                 \n",
            " lstm_5 (LSTM)               (None, 50)                20200     \n",
            "                                                                 \n",
            " dense_1 (Dense)             (None, 1)                 51        \n",
            "                                                                 \n",
            "=================================================================\n",
            "Total params: 50,851\n",
            "Trainable params: 50,851\n",
            "Non-trainable params: 0\n",
            "_________________________________________________________________\n"
          ]
        }
      ],
      "source": [
        "model.summary()"
      ]
    },
    {
      "cell_type": "code",
      "execution_count": null,
      "metadata": {
        "colab": {
          "base_uri": "https://localhost:8080/"
        },
        "id": "Jxkcfh1aTwBE",
        "outputId": "a82be9d8-1199-4078-997c-f7334c632daa"
      },
      "outputs": [
        {
          "name": "stdout",
          "output_type": "stream",
          "text": [
            "Epoch 1/100\n",
            "6/6 [==============================] - 0s 44ms/step - loss: 0.0014 - val_loss: 0.0032\n",
            "Epoch 2/100\n",
            "6/6 [==============================] - 0s 33ms/step - loss: 0.0014 - val_loss: 0.0031\n",
            "Epoch 3/100\n",
            "6/6 [==============================] - 0s 31ms/step - loss: 0.0014 - val_loss: 0.0030\n",
            "Epoch 4/100\n",
            "6/6 [==============================] - 0s 32ms/step - loss: 0.0015 - val_loss: 0.0029\n",
            "Epoch 5/100\n",
            "6/6 [==============================] - 0s 32ms/step - loss: 0.0014 - val_loss: 0.0029\n",
            "Epoch 6/100\n",
            "6/6 [==============================] - 0s 30ms/step - loss: 0.0014 - val_loss: 0.0029\n",
            "Epoch 7/100\n",
            "6/6 [==============================] - 0s 32ms/step - loss: 0.0014 - val_loss: 0.0030\n",
            "Epoch 8/100\n",
            "6/6 [==============================] - 0s 31ms/step - loss: 0.0014 - val_loss: 0.0029\n",
            "Epoch 9/100\n",
            "6/6 [==============================] - 0s 32ms/step - loss: 0.0013 - val_loss: 0.0030\n",
            "Epoch 10/100\n",
            "6/6 [==============================] - 0s 31ms/step - loss: 0.0013 - val_loss: 0.0032\n",
            "Epoch 11/100\n",
            "6/6 [==============================] - 0s 34ms/step - loss: 0.0014 - val_loss: 0.0033\n",
            "Epoch 12/100\n",
            "6/6 [==============================] - 0s 32ms/step - loss: 0.0013 - val_loss: 0.0030\n",
            "Epoch 13/100\n",
            "6/6 [==============================] - 0s 30ms/step - loss: 0.0013 - val_loss: 0.0031\n",
            "Epoch 14/100\n",
            "6/6 [==============================] - 0s 39ms/step - loss: 0.0013 - val_loss: 0.0029\n",
            "Epoch 15/100\n",
            "6/6 [==============================] - 0s 38ms/step - loss: 0.0013 - val_loss: 0.0029\n",
            "Epoch 16/100\n",
            "6/6 [==============================] - 0s 35ms/step - loss: 0.0016 - val_loss: 0.0030\n",
            "Epoch 17/100\n",
            "6/6 [==============================] - 0s 35ms/step - loss: 0.0014 - val_loss: 0.0031\n",
            "Epoch 18/100\n",
            "6/6 [==============================] - 0s 31ms/step - loss: 0.0015 - val_loss: 0.0028\n",
            "Epoch 19/100\n",
            "6/6 [==============================] - 0s 30ms/step - loss: 0.0013 - val_loss: 0.0028\n",
            "Epoch 20/100\n",
            "6/6 [==============================] - 0s 31ms/step - loss: 0.0013 - val_loss: 0.0028\n",
            "Epoch 21/100\n",
            "6/6 [==============================] - 0s 30ms/step - loss: 0.0014 - val_loss: 0.0028\n",
            "Epoch 22/100\n",
            "6/6 [==============================] - 0s 34ms/step - loss: 0.0013 - val_loss: 0.0030\n",
            "Epoch 23/100\n",
            "6/6 [==============================] - 0s 31ms/step - loss: 0.0013 - val_loss: 0.0029\n",
            "Epoch 24/100\n",
            "6/6 [==============================] - 0s 30ms/step - loss: 0.0013 - val_loss: 0.0028\n",
            "Epoch 25/100\n",
            "6/6 [==============================] - 0s 32ms/step - loss: 0.0013 - val_loss: 0.0029\n",
            "Epoch 26/100\n",
            "6/6 [==============================] - 0s 31ms/step - loss: 0.0013 - val_loss: 0.0030\n",
            "Epoch 27/100\n",
            "6/6 [==============================] - 0s 31ms/step - loss: 0.0012 - val_loss: 0.0028\n",
            "Epoch 28/100\n",
            "6/6 [==============================] - 0s 31ms/step - loss: 0.0012 - val_loss: 0.0028\n",
            "Epoch 29/100\n",
            "6/6 [==============================] - 0s 34ms/step - loss: 0.0012 - val_loss: 0.0029\n",
            "Epoch 30/100\n",
            "6/6 [==============================] - 0s 35ms/step - loss: 0.0014 - val_loss: 0.0029\n",
            "Epoch 31/100\n",
            "6/6 [==============================] - 0s 30ms/step - loss: 0.0015 - val_loss: 0.0028\n",
            "Epoch 32/100\n",
            "6/6 [==============================] - 0s 31ms/step - loss: 0.0017 - val_loss: 0.0027\n",
            "Epoch 33/100\n",
            "6/6 [==============================] - 0s 31ms/step - loss: 0.0013 - val_loss: 0.0031\n",
            "Epoch 34/100\n",
            "6/6 [==============================] - 0s 34ms/step - loss: 0.0013 - val_loss: 0.0029\n",
            "Epoch 35/100\n",
            "6/6 [==============================] - 0s 34ms/step - loss: 0.0013 - val_loss: 0.0028\n",
            "Epoch 36/100\n",
            "6/6 [==============================] - 0s 31ms/step - loss: 0.0012 - val_loss: 0.0028\n",
            "Epoch 37/100\n",
            "6/6 [==============================] - 0s 34ms/step - loss: 0.0012 - val_loss: 0.0027\n",
            "Epoch 38/100\n",
            "6/6 [==============================] - 0s 33ms/step - loss: 0.0013 - val_loss: 0.0029\n",
            "Epoch 39/100\n",
            "6/6 [==============================] - 0s 31ms/step - loss: 0.0013 - val_loss: 0.0028\n",
            "Epoch 40/100\n",
            "6/6 [==============================] - 0s 30ms/step - loss: 0.0016 - val_loss: 0.0027\n",
            "Epoch 41/100\n",
            "6/6 [==============================] - 0s 33ms/step - loss: 0.0013 - val_loss: 0.0027\n",
            "Epoch 42/100\n",
            "6/6 [==============================] - 0s 30ms/step - loss: 0.0012 - val_loss: 0.0027\n",
            "Epoch 43/100\n",
            "6/6 [==============================] - 0s 32ms/step - loss: 0.0012 - val_loss: 0.0027\n",
            "Epoch 44/100\n",
            "6/6 [==============================] - 0s 31ms/step - loss: 0.0012 - val_loss: 0.0027\n",
            "Epoch 45/100\n",
            "6/6 [==============================] - 0s 32ms/step - loss: 0.0013 - val_loss: 0.0027\n",
            "Epoch 46/100\n",
            "6/6 [==============================] - 0s 35ms/step - loss: 0.0013 - val_loss: 0.0030\n",
            "Epoch 47/100\n",
            "6/6 [==============================] - 0s 32ms/step - loss: 0.0014 - val_loss: 0.0028\n",
            "Epoch 48/100\n",
            "6/6 [==============================] - 0s 30ms/step - loss: 0.0013 - val_loss: 0.0026\n",
            "Epoch 49/100\n",
            "6/6 [==============================] - 0s 32ms/step - loss: 0.0012 - val_loss: 0.0028\n",
            "Epoch 50/100\n",
            "6/6 [==============================] - 0s 31ms/step - loss: 0.0014 - val_loss: 0.0030\n",
            "Epoch 51/100\n",
            "6/6 [==============================] - 0s 30ms/step - loss: 0.0015 - val_loss: 0.0029\n",
            "Epoch 52/100\n",
            "6/6 [==============================] - 0s 31ms/step - loss: 0.0014 - val_loss: 0.0028\n",
            "Epoch 53/100\n",
            "6/6 [==============================] - 0s 31ms/step - loss: 0.0012 - val_loss: 0.0027\n",
            "Epoch 54/100\n",
            "6/6 [==============================] - 0s 32ms/step - loss: 0.0012 - val_loss: 0.0027\n",
            "Epoch 55/100\n",
            "6/6 [==============================] - 0s 33ms/step - loss: 0.0012 - val_loss: 0.0026\n",
            "Epoch 56/100\n",
            "6/6 [==============================] - 0s 30ms/step - loss: 0.0013 - val_loss: 0.0027\n",
            "Epoch 57/100\n",
            "6/6 [==============================] - 0s 34ms/step - loss: 0.0016 - val_loss: 0.0026\n",
            "Epoch 58/100\n",
            "6/6 [==============================] - 0s 33ms/step - loss: 0.0015 - val_loss: 0.0026\n",
            "Epoch 59/100\n",
            "6/6 [==============================] - 0s 31ms/step - loss: 0.0015 - val_loss: 0.0026\n",
            "Epoch 60/100\n",
            "6/6 [==============================] - 0s 30ms/step - loss: 0.0012 - val_loss: 0.0036\n",
            "Epoch 61/100\n",
            "6/6 [==============================] - 0s 31ms/step - loss: 0.0017 - val_loss: 0.0035\n",
            "Epoch 62/100\n",
            "6/6 [==============================] - 0s 38ms/step - loss: 0.0015 - val_loss: 0.0027\n",
            "Epoch 63/100\n",
            "6/6 [==============================] - 0s 30ms/step - loss: 0.0012 - val_loss: 0.0029\n",
            "Epoch 64/100\n",
            "6/6 [==============================] - 0s 32ms/step - loss: 0.0013 - val_loss: 0.0027\n",
            "Epoch 65/100\n",
            "6/6 [==============================] - 0s 31ms/step - loss: 0.0012 - val_loss: 0.0027\n",
            "Epoch 66/100\n",
            "6/6 [==============================] - 0s 30ms/step - loss: 0.0012 - val_loss: 0.0028\n",
            "Epoch 67/100\n",
            "6/6 [==============================] - 0s 30ms/step - loss: 0.0013 - val_loss: 0.0029\n",
            "Epoch 68/100\n",
            "6/6 [==============================] - 0s 33ms/step - loss: 0.0014 - val_loss: 0.0026\n",
            "Epoch 69/100\n",
            "6/6 [==============================] - 0s 31ms/step - loss: 0.0013 - val_loss: 0.0025\n",
            "Epoch 70/100\n",
            "6/6 [==============================] - 0s 31ms/step - loss: 0.0012 - val_loss: 0.0026\n",
            "Epoch 71/100\n",
            "6/6 [==============================] - 0s 32ms/step - loss: 0.0012 - val_loss: 0.0027\n",
            "Epoch 72/100\n",
            "6/6 [==============================] - 0s 36ms/step - loss: 0.0013 - val_loss: 0.0028\n",
            "Epoch 73/100\n",
            "6/6 [==============================] - 0s 36ms/step - loss: 0.0015 - val_loss: 0.0025\n",
            "Epoch 74/100\n",
            "6/6 [==============================] - 0s 31ms/step - loss: 0.0013 - val_loss: 0.0025\n",
            "Epoch 75/100\n",
            "6/6 [==============================] - 0s 30ms/step - loss: 0.0014 - val_loss: 0.0025\n",
            "Epoch 76/100\n",
            "6/6 [==============================] - 0s 32ms/step - loss: 0.0012 - val_loss: 0.0026\n",
            "Epoch 77/100\n",
            "6/6 [==============================] - 0s 31ms/step - loss: 0.0013 - val_loss: 0.0026\n",
            "Epoch 78/100\n",
            "6/6 [==============================] - 0s 32ms/step - loss: 0.0013 - val_loss: 0.0028\n",
            "Epoch 79/100\n",
            "6/6 [==============================] - 0s 30ms/step - loss: 0.0012 - val_loss: 0.0027\n",
            "Epoch 80/100\n",
            "6/6 [==============================] - 0s 32ms/step - loss: 0.0012 - val_loss: 0.0025\n",
            "Epoch 81/100\n",
            "6/6 [==============================] - 0s 32ms/step - loss: 0.0013 - val_loss: 0.0025\n",
            "Epoch 82/100\n",
            "6/6 [==============================] - 0s 31ms/step - loss: 0.0012 - val_loss: 0.0026\n",
            "Epoch 83/100\n",
            "6/6 [==============================] - 0s 33ms/step - loss: 0.0012 - val_loss: 0.0026\n",
            "Epoch 84/100\n",
            "6/6 [==============================] - 0s 40ms/step - loss: 0.0011 - val_loss: 0.0025\n",
            "Epoch 85/100\n",
            "6/6 [==============================] - 0s 31ms/step - loss: 0.0012 - val_loss: 0.0025\n",
            "Epoch 86/100\n",
            "6/6 [==============================] - 0s 33ms/step - loss: 0.0013 - val_loss: 0.0024\n",
            "Epoch 87/100\n",
            "6/6 [==============================] - 0s 31ms/step - loss: 0.0012 - val_loss: 0.0025\n",
            "Epoch 88/100\n",
            "6/6 [==============================] - 0s 32ms/step - loss: 0.0012 - val_loss: 0.0024\n",
            "Epoch 89/100\n",
            "6/6 [==============================] - 0s 35ms/step - loss: 0.0012 - val_loss: 0.0024\n",
            "Epoch 90/100\n",
            "6/6 [==============================] - 0s 31ms/step - loss: 0.0012 - val_loss: 0.0024\n",
            "Epoch 91/100\n",
            "6/6 [==============================] - 0s 33ms/step - loss: 0.0013 - val_loss: 0.0025\n",
            "Epoch 92/100\n",
            "6/6 [==============================] - 0s 31ms/step - loss: 0.0012 - val_loss: 0.0026\n",
            "Epoch 93/100\n",
            "6/6 [==============================] - 0s 32ms/step - loss: 0.0011 - val_loss: 0.0024\n",
            "Epoch 94/100\n",
            "6/6 [==============================] - 0s 37ms/step - loss: 0.0011 - val_loss: 0.0024\n",
            "Epoch 95/100\n",
            "6/6 [==============================] - 0s 31ms/step - loss: 0.0011 - val_loss: 0.0024\n",
            "Epoch 96/100\n",
            "6/6 [==============================] - 0s 49ms/step - loss: 0.0013 - val_loss: 0.0024\n",
            "Epoch 97/100\n",
            "6/6 [==============================] - 0s 50ms/step - loss: 0.0013 - val_loss: 0.0024\n",
            "Epoch 98/100\n",
            "6/6 [==============================] - 0s 59ms/step - loss: 0.0013 - val_loss: 0.0025\n",
            "Epoch 99/100\n",
            "6/6 [==============================] - 0s 53ms/step - loss: 0.0015 - val_loss: 0.0026\n",
            "Epoch 100/100\n",
            "6/6 [==============================] - 0s 56ms/step - loss: 0.0014 - val_loss: 0.0029\n"
          ]
        },
        {
          "data": {
            "text/plain": [
              "<keras.callbacks.History at 0x7f1ff5d47150>"
            ]
          },
          "execution_count": 100,
          "metadata": {},
          "output_type": "execute_result"
        }
      ],
      "source": [
        "model.fit(X_train,y_train,validation_data=(X_test,y_test),epochs=100,batch_size=64,verbose=1)"
      ]
    },
    {
      "cell_type": "code",
      "execution_count": null,
      "metadata": {
        "colab": {
          "base_uri": "https://localhost:8080/"
        },
        "id": "1Eu4QaV1O3av",
        "outputId": "961c4c39-5262-4cc7-ae93-dcc669b097a6"
      },
      "outputs": [
        {
          "name": "stdout",
          "output_type": "stream",
          "text": [
            "11/11 [==============================] - 0s 7ms/step\n",
            "5/5 [==============================] - 0s 6ms/step\n"
          ]
        }
      ],
      "source": [
        "# Predict train and test dataset\n",
        "train_predict = model.predict(X_train)\n",
        "test_predict = model.predict(X_test)"
      ]
    },
    {
      "cell_type": "code",
      "execution_count": null,
      "metadata": {
        "id": "IOaYerrPO3av"
      },
      "outputs": [],
      "source": [
        "# Transform to original form\n",
        "train_predict = scaler.inverse_transform(train_predict)\n",
        "test_predict = scaler.inverse_transform(test_predict)"
      ]
    },
    {
      "cell_type": "code",
      "execution_count": null,
      "metadata": {
        "id": "uug_Ke2aO3av"
      },
      "outputs": [],
      "source": [
        "import math\n",
        "from sklearn.metrics import mean_squared_error\n",
        "train_rmse = math.sqrt(mean_squared_error(y_train,train_predict))\n",
        "test_rmse = math.sqrt(mean_squared_error(y_test,test_predict))"
      ]
    },
    {
      "cell_type": "code",
      "execution_count": null,
      "metadata": {
        "colab": {
          "base_uri": "https://localhost:8080/"
        },
        "id": "G3x1tYHWVQL_",
        "outputId": "6eeb5c14-9a77-4db2-9543-97933c1b4cc4"
      },
      "outputs": [
        {
          "name": "stdout",
          "output_type": "stream",
          "text": [
            "Train RMSE =  283.1180300786145\n",
            "Test RMSE  =  258.62010202253316\n"
          ]
        }
      ],
      "source": [
        "print('Train RMSE = ',train_rmse)\n",
        "print('Test RMSE  = ',test_rmse)"
      ]
    },
    {
      "cell_type": "code",
      "execution_count": null,
      "metadata": {
        "id": "2SQsggd8XUB2"
      },
      "outputs": [],
      "source": [
        "train_predict = train_predict.flatten()\n",
        "test_predict = test_predict.flatten()"
      ]
    },
    {
      "cell_type": "code",
      "execution_count": null,
      "metadata": {
        "colab": {
          "base_uri": "https://localhost:8080/",
          "height": 281
        },
        "id": "RgKc3-QkX6Rd",
        "outputId": "b10e1e65-5f0c-45cf-96b0-2331f4d8dfdf"
      },
      "outputs": [
        {
          "data": {
            "image/png": "[encoded data removed]",
            "text/plain": [
              "<Figure size 432x288 with 1 Axes>"
            ]
          },
          "metadata": {
            "needs_background": "light"
          },
          "output_type": "display_data"
        }
      ],
      "source": [
        "### Plotting \n",
        "# shift train predictions for plotting\n",
        "look_back=10\n",
        "trainPredictPlot = np.empty_like(df1)\n",
        "trainPredictPlot[:] = np.nan\n",
        "trainPredictPlot[look_back:len(train_predict)+look_back] = train_predict\n",
        "# shift test predictions for plotting\n",
        "testPredictPlot = np.empty_like(df1)\n",
        "testPredictPlot[:] = np.nan\n",
        "testPredictPlot[len(train_predict)+(look_back*2)+1:len(df1)-1] = test_predict\n",
        "# plot baseline and predictions\n",
        "plt.title('Microsoft stock price prediction')\n",
        "plt.plot(df1)\n",
        "plt.plot(trainPredictPlot)\n",
        "plt.plot(testPredictPlot)\n",
        "plt.legend(['Observations','Training Predictions', 'Test Predictions'])\n",
        "plt.show()"
      ]
    },
    {
      "cell_type": "markdown",
      "source": [
        "# Conclusion\n",
        "1.  We downloaded the stock market data of MSFT from the YAHOO Finance website using yfinance.\n",
        "2.  We explored and visualized time-series data using Pandas and Matplotlib.\n",
        "3. We predicted the MSFT stock price using LSTM and training and test RMSE came out to be 283.11 and 258.62 respectively."
      ],
      "metadata": {
        "id": "G3AmPlyxH3NN"
      }
    }
  ],
  "metadata": {
    "colab": {
      "provenance": []
    },
    "kernelspec": {
      "display_name": "Python 3 (ipykernel)",
      "language": "python",
      "name": "python3"
    },
    "language_info": {
      "codemirror_mode": {
        "name": "ipython",
        "version": 3
      },
      "file_extension": ".py",
      "mimetype": "text/x-python",
      "name": "python",
      "nbconvert_exporter": "python",
      "pygments_lexer": "ipython3",
      "version": "3.9.6"
    }
  },
  "nbformat": 4,
  "nbformat_minor": 0
}